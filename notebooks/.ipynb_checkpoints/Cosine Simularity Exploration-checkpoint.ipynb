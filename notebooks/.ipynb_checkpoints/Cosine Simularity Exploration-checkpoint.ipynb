{
 "cells": [
  {
   "cell_type": "markdown",
   "metadata": {},
   "source": [
    "# Cosine Simularity: An Exploration\n",
    "\n",
    "This notebook is an exploration of calculating cosine simularity of average beer ratings as well as the vectorized text.\n",
    "\n",
    "First, I import various libraries that I will use for querying and manipulating data"
   ]
  },
  {
   "cell_type": "code",
   "execution_count": 1,
   "metadata": {},
   "outputs": [],
   "source": [
    "import pandas as pd\n",
    "import numpy as np\n",
    "import matplotlib.pyplot as plt\n",
    "import seaborn as sns\n",
    "import os\n",
    "import re\n",
    "from sqlalchemy import create_engine, text as sql\n",
    "from sklearn.metrics.pairwise import cosine_similarity\n",
    "\n",
    "# https://stackoverflow.com/a/29665452/2548452\n",
    "from IPython.display import display, HTML\n",
    "\n",
    "%matplotlib inline"
   ]
  },
  {
   "cell_type": "code",
   "execution_count": 2,
   "metadata": {},
   "outputs": [],
   "source": [
    "pg_pass = os.environ['BEER_DB']\n",
    "engine = create_engine(pg_pass)"
   ]
  },
  {
   "cell_type": "markdown",
   "metadata": {},
   "source": [
    "Now I am going to run a query to generate a dataframe of all of the breweries within 10 miles of the Santa Monica GA campus  along with their respective beers that have text ratings. I will also get the average rating of various beers from these breweries.\n",
    "\n",
    "This is just a cursory look at how similar ratings are for beers within my local area based on the style.\n",
    "\n",
    "The general observation that I see is that beers in my local area tend to have very similar scores and it is only when I adjust the scores to the power of 3 that I can \"see\" any real difference in the cosine similarity of beer scores with the same style in my area.\n",
    "\n",
    "Beers with darker squares than the rest of the heatmaps will have much higher or much lower scores relative to everything else."
   ]
  },
  {
   "cell_type": "code",
   "execution_count": 3,
   "metadata": {},
   "outputs": [],
   "source": [
    "near_ga_beers_query = \"\"\"\n",
    "SELECT ST_Distance(\n",
    "    ST_GeomFromText('POINT(34.01080683333333 -118.4922238333333)', 4326), \n",
    "    ST_GeomFromText(ST_AsText(position), 4326)\n",
    ") * 57.884 AS distance, \n",
    "breweries.name AS brewery_name,\n",
    "beers.name AS beer_name,\n",
    "AVG(reviews.review_overall) as overall,\n",
    "AVG(reviews.review_appearance) as appearance,\n",
    "AVG(reviews.review_aroma) as aroma,\n",
    "AVG(reviews.review_taste) as taste,\n",
    "AVG(reviews.review_palate) as palate,\n",
    "styles.name AS style\n",
    "FROM breweries\n",
    "JOIN (\n",
    "    beers JOIN styles \n",
    "    ON ( beers.style_id = styles.id)\n",
    "    JOIN reviews\n",
    "    ON ( beers.id = reviews.beer_id)\n",
    ") ON breweries.id = beers.brewery_id \n",
    "WHERE ST_DWithin(\n",
    "    ST_GeomFromText('POINT(34.01080683333333 -118.4922238333333)', 4326),\n",
    "    ST_GeomFromText(ST_AsText(breweries.position), 4326), 10/57.884\n",
    ")\n",
    "AND reviews.review_overall IS NOT NULL\n",
    "GROUP BY styles.name, breweries.position, breweries.name, beers.name\n",
    "ORDER BY distance;\n",
    "\"\"\""
   ]
  },
  {
   "cell_type": "code",
   "execution_count": 4,
   "metadata": {},
   "outputs": [],
   "source": [
    "results = pd.read_sql(near_ga_beers_query, con=engine)"
   ]
  },
  {
   "cell_type": "code",
   "execution_count": 5,
   "metadata": {},
   "outputs": [],
   "source": [
    "results.dropna(inplace=True)"
   ]
  },
  {
   "cell_type": "code",
   "execution_count": 7,
   "metadata": {
    "scrolled": false
   },
   "outputs": [
    {
     "data": {
      "text/html": [
       "<h1>Fruit and Field Beer Beers scores and Cosine Simularity Heatmaps</h1>"
      ],
      "text/plain": [
       "<IPython.core.display.HTML object>"
      ]
     },
     "metadata": {},
     "output_type": "display_data"
    },
    {
     "data": {
      "text/html": [
       "<br>"
      ],
      "text/plain": [
       "<IPython.core.display.HTML object>"
      ]
     },
     "metadata": {},
     "output_type": "display_data"
    },
    {
     "data": {
      "text/html": [
       "<div>\n",
       "<style scoped>\n",
       "    .dataframe tbody tr th:only-of-type {\n",
       "        vertical-align: middle;\n",
       "    }\n",
       "\n",
       "    .dataframe tbody tr th {\n",
       "        vertical-align: top;\n",
       "    }\n",
       "\n",
       "    .dataframe thead th {\n",
       "        text-align: right;\n",
       "    }\n",
       "</style>\n",
       "<table border=\"1\" class=\"dataframe\">\n",
       "  <thead>\n",
       "    <tr style=\"text-align: right;\">\n",
       "      <th></th>\n",
       "      <th>overall</th>\n",
       "      <th>appearance</th>\n",
       "      <th>aroma</th>\n",
       "      <th>taste</th>\n",
       "      <th>palate</th>\n",
       "    </tr>\n",
       "    <tr>\n",
       "      <th>beer_name</th>\n",
       "      <th></th>\n",
       "      <th></th>\n",
       "      <th></th>\n",
       "      <th></th>\n",
       "      <th></th>\n",
       "    </tr>\n",
       "  </thead>\n",
       "  <tbody>\n",
       "    <tr>\n",
       "      <th>Collaboradler</th>\n",
       "      <td>4.000000</td>\n",
       "      <td>3.250000</td>\n",
       "      <td>3.500000</td>\n",
       "      <td>4.000000</td>\n",
       "      <td>4.000000</td>\n",
       "    </tr>\n",
       "    <tr>\n",
       "      <th>McAle's Hard Apple Ale Re</th>\n",
       "      <td>3.750000</td>\n",
       "      <td>3.750000</td>\n",
       "      <td>4.000000</td>\n",
       "      <td>3.500000</td>\n",
       "      <td>3.500000</td>\n",
       "    </tr>\n",
       "    <tr>\n",
       "      <th>McAle's Hard Apple Ale Gr</th>\n",
       "      <td>3.500000</td>\n",
       "      <td>3.750000</td>\n",
       "      <td>3.750000</td>\n",
       "      <td>3.250000</td>\n",
       "      <td>3.250000</td>\n",
       "    </tr>\n",
       "    <tr>\n",
       "      <th>Old Style Cooler by the L</th>\n",
       "      <td>3.166667</td>\n",
       "      <td>3.166667</td>\n",
       "      <td>3.083333</td>\n",
       "      <td>3.166667</td>\n",
       "      <td>3.250000</td>\n",
       "    </tr>\n",
       "    <tr>\n",
       "      <th>National Bohemian Beer Cr</th>\n",
       "      <td>2.954545</td>\n",
       "      <td>3.454545</td>\n",
       "      <td>3.181818</td>\n",
       "      <td>2.863636</td>\n",
       "      <td>2.931818</td>\n",
       "    </tr>\n",
       "  </tbody>\n",
       "</table>\n",
       "</div>"
      ],
      "text/plain": [
       "                            overall  appearance     aroma     taste    palate\n",
       "beer_name                                                                    \n",
       "Collaboradler              4.000000    3.250000  3.500000  4.000000  4.000000\n",
       "McAle's Hard Apple Ale Re  3.750000    3.750000  4.000000  3.500000  3.500000\n",
       "McAle's Hard Apple Ale Gr  3.500000    3.750000  3.750000  3.250000  3.250000\n",
       "Old Style Cooler by the L  3.166667    3.166667  3.083333  3.166667  3.250000\n",
       "National Bohemian Beer Cr  2.954545    3.454545  3.181818  2.863636  2.931818"
      ]
     },
     "metadata": {},
     "output_type": "display_data"
    },
    {
     "data": {
      "text/html": [
       "<br>"
      ],
      "text/plain": [
       "<IPython.core.display.HTML object>"
      ]
     },
     "metadata": {},
     "output_type": "display_data"
    },
    {
     "data": {
      "text/html": [
       "<br>"
      ],
      "text/plain": [
       "<IPython.core.display.HTML object>"
      ]
     },
     "metadata": {},
     "output_type": "display_data"
    },
    {
     "data": {
      "image/png": "[encoded data removed]",
      "text/plain": [
       "<Figure size 720x576 with 2 Axes>"
      ]
     },
     "metadata": {
      "needs_background": "light"
     },
     "output_type": "display_data"
    },
    {
     "data": {
      "text/html": [
       "<hr style='color:black!important;height:2px'/>"
      ],
      "text/plain": [
       "<IPython.core.display.HTML object>"
      ]
     },
     "metadata": {},
     "output_type": "display_data"
    },
    {
     "data": {
      "text/html": [
       "<br>"
      ],
      "text/plain": [
       "<IPython.core.display.HTML object>"
      ]
     },
     "metadata": {},
     "output_type": "display_data"
    },
    {
     "data": {
      "text/html": [
       "<br>"
      ],
      "text/plain": [
       "<IPython.core.display.HTML object>"
      ]
     },
     "metadata": {},
     "output_type": "display_data"
    },
    {
     "data": {
      "text/html": [
       "<h1>American Malt Liquor Beers scores and Cosine Simularity Heatmaps</h1>"
      ],
      "text/plain": [
       "<IPython.core.display.HTML object>"
      ]
     },
     "metadata": {},
     "output_type": "display_data"
    },
    {
     "data": {
      "text/html": [
       "<br>"
      ],
      "text/plain": [
       "<IPython.core.display.HTML object>"
      ]
     },
     "metadata": {},
     "output_type": "display_data"
    },
    {
     "data": {
      "text/html": [
       "<div>\n",
       "<style scoped>\n",
       "    .dataframe tbody tr th:only-of-type {\n",
       "        vertical-align: middle;\n",
       "    }\n",
       "\n",
       "    .dataframe tbody tr th {\n",
       "        vertical-align: top;\n",
       "    }\n",
       "\n",
       "    .dataframe thead th {\n",
       "        text-align: right;\n",
       "    }\n",
       "</style>\n",
       "<table border=\"1\" class=\"dataframe\">\n",
       "  <thead>\n",
       "    <tr style=\"text-align: right;\">\n",
       "      <th></th>\n",
       "      <th>overall</th>\n",
       "      <th>appearance</th>\n",
       "      <th>aroma</th>\n",
       "      <th>taste</th>\n",
       "      <th>palate</th>\n",
       "    </tr>\n",
       "    <tr>\n",
       "      <th>beer_name</th>\n",
       "      <th></th>\n",
       "      <th></th>\n",
       "      <th></th>\n",
       "      <th></th>\n",
       "      <th></th>\n",
       "    </tr>\n",
       "  </thead>\n",
       "  <tbody>\n",
       "    <tr>\n",
       "      <th>Country Club Malt Liquor</th>\n",
       "      <td>2.824324</td>\n",
       "      <td>2.864865</td>\n",
       "      <td>2.337838</td>\n",
       "      <td>2.621622</td>\n",
       "      <td>2.581081</td>\n",
       "    </tr>\n",
       "    <tr>\n",
       "      <th>Colt 45 High Gravity Lage</th>\n",
       "      <td>2.767857</td>\n",
       "      <td>3.232143</td>\n",
       "      <td>2.803571</td>\n",
       "      <td>2.821429</td>\n",
       "      <td>2.821429</td>\n",
       "    </tr>\n",
       "    <tr>\n",
       "      <th>Colt 45 Malt Liquor</th>\n",
       "      <td>2.666667</td>\n",
       "      <td>2.577236</td>\n",
       "      <td>2.170732</td>\n",
       "      <td>2.459350</td>\n",
       "      <td>2.575203</td>\n",
       "    </tr>\n",
       "    <tr>\n",
       "      <th>Silver Thunder</th>\n",
       "      <td>2.397727</td>\n",
       "      <td>2.909091</td>\n",
       "      <td>2.386364</td>\n",
       "      <td>2.590909</td>\n",
       "      <td>2.681818</td>\n",
       "    </tr>\n",
       "    <tr>\n",
       "      <th>Stack High Gravity Lager</th>\n",
       "      <td>1.884615</td>\n",
       "      <td>2.846154</td>\n",
       "      <td>2.307692</td>\n",
       "      <td>2.019231</td>\n",
       "      <td>2.057692</td>\n",
       "    </tr>\n",
       "    <tr>\n",
       "      <th>Colt 45</th>\n",
       "      <td>1.845200</td>\n",
       "      <td>2.000000</td>\n",
       "      <td>1.828125</td>\n",
       "      <td>1.875000</td>\n",
       "      <td>1.859375</td>\n",
       "    </tr>\n",
       "  </tbody>\n",
       "</table>\n",
       "</div>"
      ],
      "text/plain": [
       "                            overall  appearance     aroma     taste    palate\n",
       "beer_name                                                                    \n",
       "Country Club Malt Liquor   2.824324    2.864865  2.337838  2.621622  2.581081\n",
       "Colt 45 High Gravity Lage  2.767857    3.232143  2.803571  2.821429  2.821429\n",
       "Colt 45 Malt Liquor        2.666667    2.577236  2.170732  2.459350  2.575203\n",
       "Silver Thunder             2.397727    2.909091  2.386364  2.590909  2.681818\n",
       "Stack High Gravity Lager   1.884615    2.846154  2.307692  2.019231  2.057692\n",
       "Colt 45                    1.845200    2.000000  1.828125  1.875000  1.859375"
      ]
     },
     "metadata": {},
     "output_type": "display_data"
    },
    {
     "data": {
      "text/html": [
       "<br>"
      ],
      "text/plain": [
       "<IPython.core.display.HTML object>"
      ]
     },
     "metadata": {},
     "output_type": "display_data"
    },
    {
     "data": {
      "text/html": [
       "<br>"
      ],
      "text/plain": [
       "<IPython.core.display.HTML object>"
      ]
     },
     "metadata": {},
     "output_type": "display_data"
    },
    {
     "data": {
      "image/png": "[encoded data removed]",
      "text/plain": [
       "<Figure size 720x576 with 2 Axes>"
      ]
     },
     "metadata": {
      "needs_background": "light"
     },
     "output_type": "display_data"
    },
    {
     "data": {
      "text/html": [
       "<hr style='color:black!important;height:2px'/>"
      ],
      "text/plain": [
       "<IPython.core.display.HTML object>"
      ]
     },
     "metadata": {},
     "output_type": "display_data"
    },
    {
     "data": {
      "text/html": [
       "<br>"
      ],
      "text/plain": [
       "<IPython.core.display.HTML object>"
      ]
     },
     "metadata": {},
     "output_type": "display_data"
    },
    {
     "data": {
      "text/html": [
       "<br>"
      ],
      "text/plain": [
       "<IPython.core.display.HTML object>"
      ]
     },
     "metadata": {},
     "output_type": "display_data"
    },
    {
     "data": {
      "text/html": [
       "<h1>American Imperial IPA Beers scores and Cosine Simularity Heatmaps</h1>"
      ],
      "text/plain": [
       "<IPython.core.display.HTML object>"
      ]
     },
     "metadata": {},
     "output_type": "display_data"
    },
    {
     "data": {
      "text/html": [
       "<br>"
      ],
      "text/plain": [
       "<IPython.core.display.HTML object>"
      ]
     },
     "metadata": {},
     "output_type": "display_data"
    },
    {
     "data": {
      "text/html": [
       "<div>\n",
       "<style scoped>\n",
       "    .dataframe tbody tr th:only-of-type {\n",
       "        vertical-align: middle;\n",
       "    }\n",
       "\n",
       "    .dataframe tbody tr th {\n",
       "        vertical-align: top;\n",
       "    }\n",
       "\n",
       "    .dataframe thead th {\n",
       "        text-align: right;\n",
       "    }\n",
       "</style>\n",
       "<table border=\"1\" class=\"dataframe\">\n",
       "  <thead>\n",
       "    <tr style=\"text-align: right;\">\n",
       "      <th></th>\n",
       "      <th>overall</th>\n",
       "      <th>appearance</th>\n",
       "      <th>aroma</th>\n",
       "      <th>taste</th>\n",
       "      <th>palate</th>\n",
       "    </tr>\n",
       "    <tr>\n",
       "      <th>beer_name</th>\n",
       "      <th></th>\n",
       "      <th></th>\n",
       "      <th></th>\n",
       "      <th></th>\n",
       "      <th></th>\n",
       "    </tr>\n",
       "  </thead>\n",
       "  <tbody>\n",
       "    <tr>\n",
       "      <th>Dual Citizen DIPA</th>\n",
       "      <td>4.250000</td>\n",
       "      <td>4.277778</td>\n",
       "      <td>4.250000</td>\n",
       "      <td>4.250000</td>\n",
       "      <td>4.194444</td>\n",
       "    </tr>\n",
       "    <tr>\n",
       "      <th>Nuclear Power Plant</th>\n",
       "      <td>4.187500</td>\n",
       "      <td>4.156250</td>\n",
       "      <td>4.156250</td>\n",
       "      <td>4.125000</td>\n",
       "      <td>4.125000</td>\n",
       "    </tr>\n",
       "    <tr>\n",
       "      <th>Two 5 Left</th>\n",
       "      <td>4.176471</td>\n",
       "      <td>3.941176</td>\n",
       "      <td>4.264706</td>\n",
       "      <td>4.235294</td>\n",
       "      <td>3.911765</td>\n",
       "    </tr>\n",
       "    <tr>\n",
       "      <th>Surfin' Bird</th>\n",
       "      <td>4.150000</td>\n",
       "      <td>4.190000</td>\n",
       "      <td>4.190000</td>\n",
       "      <td>4.220000</td>\n",
       "      <td>4.160000</td>\n",
       "    </tr>\n",
       "    <tr>\n",
       "      <th>Wet Hop Citra-Mongous DIP</th>\n",
       "      <td>4.150000</td>\n",
       "      <td>4.150000</td>\n",
       "      <td>4.200000</td>\n",
       "      <td>4.300000</td>\n",
       "      <td>4.200000</td>\n",
       "    </tr>\n",
       "    <tr>\n",
       "      <th>Hop Tanker</th>\n",
       "      <td>4.130769</td>\n",
       "      <td>4.155172</td>\n",
       "      <td>4.206897</td>\n",
       "      <td>4.120690</td>\n",
       "      <td>4.137931</td>\n",
       "    </tr>\n",
       "    <tr>\n",
       "      <th>Hammerland DIPA</th>\n",
       "      <td>4.125000</td>\n",
       "      <td>3.656250</td>\n",
       "      <td>4.406250</td>\n",
       "      <td>4.281250</td>\n",
       "      <td>4.187500</td>\n",
       "    </tr>\n",
       "    <tr>\n",
       "      <th>Seis Del Segundo</th>\n",
       "      <td>4.125000</td>\n",
       "      <td>4.000000</td>\n",
       "      <td>4.125000</td>\n",
       "      <td>4.125000</td>\n",
       "      <td>4.000000</td>\n",
       "    </tr>\n",
       "    <tr>\n",
       "      <th>Knotty DIPA</th>\n",
       "      <td>4.092759</td>\n",
       "      <td>4.092105</td>\n",
       "      <td>4.105263</td>\n",
       "      <td>4.105263</td>\n",
       "      <td>4.057018</td>\n",
       "    </tr>\n",
       "    <tr>\n",
       "      <th>Blood Junkie Imperial Red</th>\n",
       "      <td>4.064516</td>\n",
       "      <td>4.137097</td>\n",
       "      <td>4.048387</td>\n",
       "      <td>4.112903</td>\n",
       "      <td>4.064516</td>\n",
       "    </tr>\n",
       "    <tr>\n",
       "      <th>Beginner's Luck (Collabor</th>\n",
       "      <td>4.050000</td>\n",
       "      <td>3.933333</td>\n",
       "      <td>4.100000</td>\n",
       "      <td>4.116667</td>\n",
       "      <td>3.966667</td>\n",
       "    </tr>\n",
       "    <tr>\n",
       "      <th>Head In The Clouds</th>\n",
       "      <td>4.041667</td>\n",
       "      <td>4.125000</td>\n",
       "      <td>4.083333</td>\n",
       "      <td>4.083333</td>\n",
       "      <td>4.041667</td>\n",
       "    </tr>\n",
       "    <tr>\n",
       "      <th>Power Plant TIPA</th>\n",
       "      <td>4.038710</td>\n",
       "      <td>4.052083</td>\n",
       "      <td>4.187500</td>\n",
       "      <td>4.031250</td>\n",
       "      <td>4.000000</td>\n",
       "    </tr>\n",
       "    <tr>\n",
       "      <th>Hop Plunge</th>\n",
       "      <td>4.017857</td>\n",
       "      <td>4.089286</td>\n",
       "      <td>4.125000</td>\n",
       "      <td>4.035714</td>\n",
       "      <td>4.000000</td>\n",
       "    </tr>\n",
       "    <tr>\n",
       "      <th>7-Minute ABS</th>\n",
       "      <td>4.000000</td>\n",
       "      <td>4.000000</td>\n",
       "      <td>4.000000</td>\n",
       "      <td>4.000000</td>\n",
       "      <td>4.000000</td>\n",
       "    </tr>\n",
       "    <tr>\n",
       "      <th>Sietes De Las Suertes</th>\n",
       "      <td>3.950000</td>\n",
       "      <td>4.075000</td>\n",
       "      <td>4.025000</td>\n",
       "      <td>4.025000</td>\n",
       "      <td>4.025000</td>\n",
       "    </tr>\n",
       "    <tr>\n",
       "      <th>Off The Beaten Path</th>\n",
       "      <td>3.937500</td>\n",
       "      <td>4.125000</td>\n",
       "      <td>3.875000</td>\n",
       "      <td>3.875000</td>\n",
       "      <td>3.937500</td>\n",
       "    </tr>\n",
       "    <tr>\n",
       "      <th>Thunderchief</th>\n",
       "      <td>3.875000</td>\n",
       "      <td>4.000000</td>\n",
       "      <td>4.000000</td>\n",
       "      <td>3.875000</td>\n",
       "      <td>4.000000</td>\n",
       "    </tr>\n",
       "    <tr>\n",
       "      <th>Punch in the D</th>\n",
       "      <td>3.875000</td>\n",
       "      <td>4.125000</td>\n",
       "      <td>4.000000</td>\n",
       "      <td>3.875000</td>\n",
       "      <td>4.000000</td>\n",
       "    </tr>\n",
       "    <tr>\n",
       "      <th>Maybe So Maybe Not DIPA</th>\n",
       "      <td>3.625000</td>\n",
       "      <td>3.625000</td>\n",
       "      <td>3.625000</td>\n",
       "      <td>3.750000</td>\n",
       "      <td>3.625000</td>\n",
       "    </tr>\n",
       "    <tr>\n",
       "      <th>5 Lb Sledgehammer</th>\n",
       "      <td>3.166667</td>\n",
       "      <td>3.833333</td>\n",
       "      <td>3.666667</td>\n",
       "      <td>3.500000</td>\n",
       "      <td>3.833333</td>\n",
       "    </tr>\n",
       "    <tr>\n",
       "      <th>El Cinco De Segundo</th>\n",
       "      <td>1.612245</td>\n",
       "      <td>2.163265</td>\n",
       "      <td>1.744898</td>\n",
       "      <td>1.438776</td>\n",
       "      <td>1.693878</td>\n",
       "    </tr>\n",
       "  </tbody>\n",
       "</table>\n",
       "</div>"
      ],
      "text/plain": [
       "                            overall  appearance     aroma     taste    palate\n",
       "beer_name                                                                    \n",
       "Dual Citizen DIPA          4.250000    4.277778  4.250000  4.250000  4.194444\n",
       "Nuclear Power Plant        4.187500    4.156250  4.156250  4.125000  4.125000\n",
       "Two 5 Left                 4.176471    3.941176  4.264706  4.235294  3.911765\n",
       "Surfin' Bird               4.150000    4.190000  4.190000  4.220000  4.160000\n",
       "Wet Hop Citra-Mongous DIP  4.150000    4.150000  4.200000  4.300000  4.200000\n",
       "Hop Tanker                 4.130769    4.155172  4.206897  4.120690  4.137931\n",
       "Hammerland DIPA            4.125000    3.656250  4.406250  4.281250  4.187500\n",
       "Seis Del Segundo           4.125000    4.000000  4.125000  4.125000  4.000000\n",
       "Knotty DIPA                4.092759    4.092105  4.105263  4.105263  4.057018\n",
       "Blood Junkie Imperial Red  4.064516    4.137097  4.048387  4.112903  4.064516\n",
       "Beginner's Luck (Collabor  4.050000    3.933333  4.100000  4.116667  3.966667\n",
       "Head In The Clouds         4.041667    4.125000  4.083333  4.083333  4.041667\n",
       "Power Plant TIPA           4.038710    4.052083  4.187500  4.031250  4.000000\n",
       "Hop Plunge                 4.017857    4.089286  4.125000  4.035714  4.000000\n",
       "7-Minute ABS               4.000000    4.000000  4.000000  4.000000  4.000000\n",
       "Sietes De Las Suertes      3.950000    4.075000  4.025000  4.025000  4.025000\n",
       "Off The Beaten Path        3.937500    4.125000  3.875000  3.875000  3.937500\n",
       "Thunderchief               3.875000    4.000000  4.000000  3.875000  4.000000\n",
       "Punch in the D             3.875000    4.125000  4.000000  3.875000  4.000000\n",
       "Maybe So Maybe Not DIPA    3.625000    3.625000  3.625000  3.750000  3.625000\n",
       "5 Lb Sledgehammer          3.166667    3.833333  3.666667  3.500000  3.833333\n",
       "El Cinco De Segundo        1.612245    2.163265  1.744898  1.438776  1.693878"
      ]
     },
     "metadata": {},
     "output_type": "display_data"
    },
    {
     "data": {
      "text/html": [
       "<br>"
      ],
      "text/plain": [
       "<IPython.core.display.HTML object>"
      ]
     },
     "metadata": {},
     "output_type": "display_data"
    },
    {
     "data": {
      "text/html": [
       "<br>"
      ],
      "text/plain": [
       "<IPython.core.display.HTML object>"
      ]
     },
     "metadata": {},
     "output_type": "display_data"
    },
    {
     "data": {
      "image/png": "[encoded data removed]",
      "text/plain": [
       "<Figure size 720x576 with 2 Axes>"
      ]
     },
     "metadata": {
      "needs_background": "light"
     },
     "output_type": "display_data"
    },
    {
     "data": {
      "text/html": [
       "<hr style='color:black!important;height:2px'/>"
      ],
      "text/plain": [
       "<IPython.core.display.HTML object>"
      ]
     },
     "metadata": {},
     "output_type": "display_data"
    },
    {
     "data": {
      "text/html": [
       "<br>"
      ],
      "text/plain": [
       "<IPython.core.display.HTML object>"
      ]
     },
     "metadata": {},
     "output_type": "display_data"
    },
    {
     "data": {
      "text/html": [
       "<br>"
      ],
      "text/plain": [
       "<IPython.core.display.HTML object>"
      ]
     },
     "metadata": {},
     "output_type": "display_data"
    },
    {
     "data": {
      "text/html": [
       "<h1>American Adjunct Lager Beers scores and Cosine Simularity Heatmaps</h1>"
      ],
      "text/plain": [
       "<IPython.core.display.HTML object>"
      ]
     },
     "metadata": {},
     "output_type": "display_data"
    },
    {
     "data": {
      "text/html": [
       "<br>"
      ],
      "text/plain": [
       "<IPython.core.display.HTML object>"
      ]
     },
     "metadata": {},
     "output_type": "display_data"
    },
    {
     "data": {
      "text/html": [
       "<div>\n",
       "<style scoped>\n",
       "    .dataframe tbody tr th:only-of-type {\n",
       "        vertical-align: middle;\n",
       "    }\n",
       "\n",
       "    .dataframe tbody tr th {\n",
       "        vertical-align: top;\n",
       "    }\n",
       "\n",
       "    .dataframe thead th {\n",
       "        text-align: right;\n",
       "    }\n",
       "</style>\n",
       "<table border=\"1\" class=\"dataframe\">\n",
       "  <thead>\n",
       "    <tr style=\"text-align: right;\">\n",
       "      <th></th>\n",
       "      <th>overall</th>\n",
       "      <th>appearance</th>\n",
       "      <th>aroma</th>\n",
       "      <th>taste</th>\n",
       "      <th>palate</th>\n",
       "    </tr>\n",
       "    <tr>\n",
       "      <th>beer_name</th>\n",
       "      <th></th>\n",
       "      <th></th>\n",
       "      <th></th>\n",
       "      <th></th>\n",
       "      <th></th>\n",
       "    </tr>\n",
       "  </thead>\n",
       "  <tbody>\n",
       "    <tr>\n",
       "      <th>Lime Lager 009</th>\n",
       "      <td>3.750000</td>\n",
       "      <td>4.000000</td>\n",
       "      <td>3.750000</td>\n",
       "      <td>3.750000</td>\n",
       "      <td>4.000000</td>\n",
       "    </tr>\n",
       "    <tr>\n",
       "      <th>Stag</th>\n",
       "      <td>3.666667</td>\n",
       "      <td>3.166667</td>\n",
       "      <td>2.833333</td>\n",
       "      <td>3.263158</td>\n",
       "      <td>3.201754</td>\n",
       "    </tr>\n",
       "    <tr>\n",
       "      <th>Pabst Blue Ribbon (PBR)</th>\n",
       "      <td>3.613777</td>\n",
       "      <td>2.901302</td>\n",
       "      <td>2.682659</td>\n",
       "      <td>3.102467</td>\n",
       "      <td>3.006511</td>\n",
       "    </tr>\n",
       "    <tr>\n",
       "      <th>National Bohemian Beer</th>\n",
       "      <td>3.577320</td>\n",
       "      <td>2.798969</td>\n",
       "      <td>2.644330</td>\n",
       "      <td>3.087629</td>\n",
       "      <td>3.092784</td>\n",
       "    </tr>\n",
       "    <tr>\n",
       "      <th>Olympia 95% Malt</th>\n",
       "      <td>3.558824</td>\n",
       "      <td>3.588235</td>\n",
       "      <td>3.058824</td>\n",
       "      <td>3.529412</td>\n",
       "      <td>3.441176</td>\n",
       "    </tr>\n",
       "    <tr>\n",
       "      <th>Pabst Genuine Draft</th>\n",
       "      <td>3.533333</td>\n",
       "      <td>2.933333</td>\n",
       "      <td>2.633333</td>\n",
       "      <td>2.866667</td>\n",
       "      <td>3.133333</td>\n",
       "    </tr>\n",
       "    <tr>\n",
       "      <th>National Bohemian Ice Bee</th>\n",
       "      <td>3.375000</td>\n",
       "      <td>3.187500</td>\n",
       "      <td>3.000000</td>\n",
       "      <td>3.187500</td>\n",
       "      <td>3.000000</td>\n",
       "    </tr>\n",
       "    <tr>\n",
       "      <th>Old Style</th>\n",
       "      <td>3.324713</td>\n",
       "      <td>2.864943</td>\n",
       "      <td>2.701149</td>\n",
       "      <td>2.977011</td>\n",
       "      <td>2.948276</td>\n",
       "    </tr>\n",
       "    <tr>\n",
       "      <th>Olympia Beer</th>\n",
       "      <td>3.293750</td>\n",
       "      <td>2.875000</td>\n",
       "      <td>2.562500</td>\n",
       "      <td>2.862500</td>\n",
       "      <td>2.843750</td>\n",
       "    </tr>\n",
       "    <tr>\n",
       "      <th>Stroh's</th>\n",
       "      <td>3.264398</td>\n",
       "      <td>2.900524</td>\n",
       "      <td>2.701571</td>\n",
       "      <td>3.013089</td>\n",
       "      <td>2.884817</td>\n",
       "    </tr>\n",
       "    <tr>\n",
       "      <th>Primo</th>\n",
       "      <td>3.210000</td>\n",
       "      <td>3.050000</td>\n",
       "      <td>2.730000</td>\n",
       "      <td>2.890000</td>\n",
       "      <td>3.000000</td>\n",
       "    </tr>\n",
       "    <tr>\n",
       "      <th>Pearl Lager</th>\n",
       "      <td>3.062500</td>\n",
       "      <td>3.000000</td>\n",
       "      <td>2.625000</td>\n",
       "      <td>2.843750</td>\n",
       "      <td>2.906250</td>\n",
       "    </tr>\n",
       "    <tr>\n",
       "      <th>Blatz Beer</th>\n",
       "      <td>2.906977</td>\n",
       "      <td>2.622093</td>\n",
       "      <td>2.377907</td>\n",
       "      <td>2.627907</td>\n",
       "      <td>2.715116</td>\n",
       "    </tr>\n",
       "    <tr>\n",
       "      <th>Lone Star Beer</th>\n",
       "      <td>2.866667</td>\n",
       "      <td>2.556410</td>\n",
       "      <td>2.305128</td>\n",
       "      <td>2.487179</td>\n",
       "      <td>2.543590</td>\n",
       "    </tr>\n",
       "    <tr>\n",
       "      <th>Old Milwaukee Beer</th>\n",
       "      <td>2.810127</td>\n",
       "      <td>2.584388</td>\n",
       "      <td>2.343882</td>\n",
       "      <td>2.533755</td>\n",
       "      <td>2.508439</td>\n",
       "    </tr>\n",
       "    <tr>\n",
       "      <th>Old Milwaukee Ice</th>\n",
       "      <td>2.681818</td>\n",
       "      <td>2.636364</td>\n",
       "      <td>2.318182</td>\n",
       "      <td>2.522727</td>\n",
       "      <td>2.568182</td>\n",
       "    </tr>\n",
       "    <tr>\n",
       "      <th>Black Label Beer</th>\n",
       "      <td>2.675000</td>\n",
       "      <td>2.433333</td>\n",
       "      <td>2.291667</td>\n",
       "      <td>2.483333</td>\n",
       "      <td>2.433333</td>\n",
       "    </tr>\n",
       "    <tr>\n",
       "      <th>Pabst Blue Ribbon (PBR) 5</th>\n",
       "      <td>2.469091</td>\n",
       "      <td>2.750000</td>\n",
       "      <td>2.583333</td>\n",
       "      <td>2.527778</td>\n",
       "      <td>2.555556</td>\n",
       "    </tr>\n",
       "    <tr>\n",
       "      <th>Schmidt</th>\n",
       "      <td>2.402200</td>\n",
       "      <td>2.552885</td>\n",
       "      <td>2.274038</td>\n",
       "      <td>2.384615</td>\n",
       "      <td>2.524038</td>\n",
       "    </tr>\n",
       "    <tr>\n",
       "      <th>Schmidt Ice</th>\n",
       "      <td>2.083333</td>\n",
       "      <td>2.333333</td>\n",
       "      <td>1.666667</td>\n",
       "      <td>1.500000</td>\n",
       "      <td>1.666667</td>\n",
       "    </tr>\n",
       "    <tr>\n",
       "      <th>Pabst Blue Ribbon Ice</th>\n",
       "      <td>2.071429</td>\n",
       "      <td>2.142857</td>\n",
       "      <td>1.714286</td>\n",
       "      <td>1.571429</td>\n",
       "      <td>2.000000</td>\n",
       "    </tr>\n",
       "  </tbody>\n",
       "</table>\n",
       "</div>"
      ],
      "text/plain": [
       "                            overall  appearance     aroma     taste    palate\n",
       "beer_name                                                                    \n",
       "Lime Lager 009             3.750000    4.000000  3.750000  3.750000  4.000000\n",
       "Stag                       3.666667    3.166667  2.833333  3.263158  3.201754\n",
       "Pabst Blue Ribbon (PBR)    3.613777    2.901302  2.682659  3.102467  3.006511\n",
       "National Bohemian Beer     3.577320    2.798969  2.644330  3.087629  3.092784\n",
       "Olympia 95% Malt           3.558824    3.588235  3.058824  3.529412  3.441176\n",
       "Pabst Genuine Draft        3.533333    2.933333  2.633333  2.866667  3.133333\n",
       "National Bohemian Ice Bee  3.375000    3.187500  3.000000  3.187500  3.000000\n",
       "Old Style                  3.324713    2.864943  2.701149  2.977011  2.948276\n",
       "Olympia Beer               3.293750    2.875000  2.562500  2.862500  2.843750\n",
       "Stroh's                    3.264398    2.900524  2.701571  3.013089  2.884817\n",
       "Primo                      3.210000    3.050000  2.730000  2.890000  3.000000\n",
       "Pearl Lager                3.062500    3.000000  2.625000  2.843750  2.906250\n",
       "Blatz Beer                 2.906977    2.622093  2.377907  2.627907  2.715116\n",
       "Lone Star Beer             2.866667    2.556410  2.305128  2.487179  2.543590\n",
       "Old Milwaukee Beer         2.810127    2.584388  2.343882  2.533755  2.508439\n",
       "Old Milwaukee Ice          2.681818    2.636364  2.318182  2.522727  2.568182\n",
       "Black Label Beer           2.675000    2.433333  2.291667  2.483333  2.433333\n",
       "Pabst Blue Ribbon (PBR) 5  2.469091    2.750000  2.583333  2.527778  2.555556\n",
       "Schmidt                    2.402200    2.552885  2.274038  2.384615  2.524038\n",
       "Schmidt Ice                2.083333    2.333333  1.666667  1.500000  1.666667\n",
       "Pabst Blue Ribbon Ice      2.071429    2.142857  1.714286  1.571429  2.000000"
      ]
     },
     "metadata": {},
     "output_type": "display_data"
    },
    {
     "data": {
      "text/html": [
       "<br>"
      ],
      "text/plain": [
       "<IPython.core.display.HTML object>"
      ]
     },
     "metadata": {},
     "output_type": "display_data"
    },
    {
     "data": {
      "text/html": [
       "<br>"
      ],
      "text/plain": [
       "<IPython.core.display.HTML object>"
      ]
     },
     "metadata": {},
     "output_type": "display_data"
    },
    {
     "data": {
      "image/png": "[encoded data removed]",
      "text/plain": [
       "<Figure size 720x576 with 2 Axes>"
      ]
     },
     "metadata": {
      "needs_background": "light"
     },
     "output_type": "display_data"
    },
    {
     "data": {
      "text/html": [
       "<hr style='color:black!important;height:2px'/>"
      ],
      "text/plain": [
       "<IPython.core.display.HTML object>"
      ]
     },
     "metadata": {},
     "output_type": "display_data"
    },
    {
     "data": {
      "text/html": [
       "<br>"
      ],
      "text/plain": [
       "<IPython.core.display.HTML object>"
      ]
     },
     "metadata": {},
     "output_type": "display_data"
    },
    {
     "data": {
      "text/html": [
       "<br>"
      ],
      "text/plain": [
       "<IPython.core.display.HTML object>"
      ]
     },
     "metadata": {},
     "output_type": "display_data"
    }
   ],
   "source": [
    "scores = results[[\"overall\", \"appearance\",\"aroma\",\"taste\",\"beer_name\",\"palate\",\"style\"]]\n",
    "\n",
    "for style in set(scores[\"style\"].values):\n",
    "    style_scores = scores[scores['style'] == style]\n",
    "    style_scores.set_index('beer_name', inplace=True)\n",
    "    if style_scores.drop(columns=\"style\").shape[0] >= 2 and style_scores.shape != (2, 5):\n",
    "        style_scores.drop(columns=\"style\", inplace=True)\n",
    "        cubed_style_scores = np.power(style_scores, 6)\n",
    "        sim_matrix = cosine_similarity(cubed_style_scores, cubed_style_scores)\n",
    "        # I don't want to print anything that is incredibly similar\n",
    "        # especially when I have made transformations\n",
    "        # to make beers stand out\n",
    "        if (sim_matrix.max() - sim_matrix.min() > .3):\n",
    "            display(HTML(f\"<h1>{style} Beers scores and Cosine Simularity Heatmaps</h1>\"))\n",
    "            display(HTML(\"<br>\"))\n",
    "            style_scores.rename(index={beer: beer[:25] for beer in style_scores.index}, inplace=True)\n",
    "            sorted_style_scores = style_scores.sort_values(by=\"overall\", ascending=False)\n",
    "            display(sorted_style_scores)\n",
    "            beer_sim = pd.DataFrame(sim_matrix, columns=sorted_style_scores.index, index=sorted_style_scores.index)        \n",
    "            plt.figure(figsize=(10,8))\n",
    "            sns.heatmap(beer_sim)\n",
    "            plt.title(f\"Cosine Similarity for {style} beers\", fontdict={\"fontsize\":20})\n",
    "            [display(HTML(\"<br>\")) for _ in range(2)]\n",
    "            plt.show()\n",
    "            display(HTML(\"<hr style='color:black!important;height:2px'/>\"))\n",
    "            [display(HTML(\"<br>\")) for _ in range(2)]"
   ]
  },
  {
   "cell_type": "markdown",
   "metadata": {},
   "source": [
    "# Beer Recommendations\n",
    "\n",
    "I will now recommend beers based on user preferences and location."
   ]
  },
  {
   "cell_type": "code",
   "execution_count": 8,
   "metadata": {},
   "outputs": [],
   "source": [
    "# I want to get the averages scores \n",
    "# and styles\n",
    "# of beer reviews for all of the beers\n",
    "# within a 10 mile radius of GA\n",
    "# that are rated better than 3\n",
    "\n",
    "within_x_miles_of_sm = \"\"\"\n",
    "SELECT \n",
    "styles.name as style,\n",
    "breweries.name,\n",
    "beers.name as beer_name,\n",
    "AVG(reviews.review_overall) as overall,\n",
    "AVG(reviews.review_appearance) as appearance,\n",
    "AVG(reviews.review_aroma) as aroma,\n",
    "AVG(reviews.review_taste) as taste,\n",
    "AVG(reviews.review_palate) as palate\n",
    "FROM\n",
    "reviews, styles, beers, breweries\n",
    "WHERE\n",
    "reviews.beer_id = beers.id\n",
    "AND review_overall > 3\n",
    "AND styles.id = beers.id\n",
    "AND ST_DWithin(\n",
    "    ST_GeomFromText('POINT(34.01080683333333 -118.4922238333333)', 4326),\n",
    "    ST_GeomFromText(ST_AsText(breweries.position),4326), 10/57.884\n",
    ")\n",
    "GROUP BY ST_DWithin(\n",
    "    ST_GeomFromText('POINT(34.01080683333333 -118.4922238333333)', 4326),\n",
    "    ST_GeomFromText(ST_AsText(breweries.position),4326), 10/57.884\n",
    "), breweries.name, styles.name, \n",
    "beers.name, reviews.review_overall,\n",
    "reviews.review_appearance,\n",
    "reviews.review_aroma,\n",
    "reviews.review_taste,\n",
    "reviews.review_palate;\n",
    "\"\"\"\n",
    "\n",
    "local_results = pd.read_sql(within_x_miles_of_sm, con=engine)"
   ]
  },
  {
   "cell_type": "markdown",
   "metadata": {},
   "source": [
    "I get back 25534 Reviews"
   ]
  },
  {
   "cell_type": "code",
   "execution_count": 9,
   "metadata": {},
   "outputs": [
    {
     "data": {
      "text/plain": [
       "(25534, 8)"
      ]
     },
     "execution_count": 9,
     "metadata": {},
     "output_type": "execute_result"
    }
   ],
   "source": [
    "local_results.shape"
   ]
  },
  {
   "cell_type": "code",
   "execution_count": 10,
   "metadata": {},
   "outputs": [
    {
     "data": {
      "text/html": [
       "<div>\n",
       "<style scoped>\n",
       "    .dataframe tbody tr th:only-of-type {\n",
       "        vertical-align: middle;\n",
       "    }\n",
       "\n",
       "    .dataframe tbody tr th {\n",
       "        vertical-align: top;\n",
       "    }\n",
       "\n",
       "    .dataframe thead th {\n",
       "        text-align: right;\n",
       "    }\n",
       "</style>\n",
       "<table border=\"1\" class=\"dataframe\">\n",
       "  <thead>\n",
       "    <tr style=\"text-align: right;\">\n",
       "      <th></th>\n",
       "      <th>style</th>\n",
       "      <th>name</th>\n",
       "      <th>beer_name</th>\n",
       "      <th>overall</th>\n",
       "      <th>appearance</th>\n",
       "      <th>aroma</th>\n",
       "      <th>taste</th>\n",
       "      <th>palate</th>\n",
       "    </tr>\n",
       "  </thead>\n",
       "  <tbody>\n",
       "    <tr>\n",
       "      <th>0</th>\n",
       "      <td>American Amber / Red Ale</td>\n",
       "      <td>6th &amp; La Brea</td>\n",
       "      <td>McNeill's Extra Special Bitter</td>\n",
       "      <td>3.5</td>\n",
       "      <td>2.5</td>\n",
       "      <td>4.0</td>\n",
       "      <td>4.0</td>\n",
       "      <td>3.5</td>\n",
       "    </tr>\n",
       "    <tr>\n",
       "      <th>1</th>\n",
       "      <td>American Amber / Red Ale</td>\n",
       "      <td>6th &amp; La Brea</td>\n",
       "      <td>McNeill's Extra Special Bitter</td>\n",
       "      <td>3.5</td>\n",
       "      <td>3.0</td>\n",
       "      <td>2.0</td>\n",
       "      <td>4.0</td>\n",
       "      <td>3.0</td>\n",
       "    </tr>\n",
       "    <tr>\n",
       "      <th>2</th>\n",
       "      <td>American Amber / Red Ale</td>\n",
       "      <td>6th &amp; La Brea</td>\n",
       "      <td>McNeill's Extra Special Bitter</td>\n",
       "      <td>3.5</td>\n",
       "      <td>3.5</td>\n",
       "      <td>3.5</td>\n",
       "      <td>3.5</td>\n",
       "      <td>3.5</td>\n",
       "    </tr>\n",
       "    <tr>\n",
       "      <th>3</th>\n",
       "      <td>American Amber / Red Ale</td>\n",
       "      <td>6th &amp; La Brea</td>\n",
       "      <td>McNeill's Extra Special Bitter</td>\n",
       "      <td>3.5</td>\n",
       "      <td>3.5</td>\n",
       "      <td>3.5</td>\n",
       "      <td>4.0</td>\n",
       "      <td>4.0</td>\n",
       "    </tr>\n",
       "    <tr>\n",
       "      <th>4</th>\n",
       "      <td>American Amber / Red Ale</td>\n",
       "      <td>6th &amp; La Brea</td>\n",
       "      <td>McNeill's Extra Special Bitter</td>\n",
       "      <td>3.5</td>\n",
       "      <td>3.5</td>\n",
       "      <td>4.0</td>\n",
       "      <td>3.5</td>\n",
       "      <td>3.0</td>\n",
       "    </tr>\n",
       "  </tbody>\n",
       "</table>\n",
       "</div>"
      ],
      "text/plain": [
       "                      style           name                       beer_name  \\\n",
       "0  American Amber / Red Ale  6th & La Brea  McNeill's Extra Special Bitter   \n",
       "1  American Amber / Red Ale  6th & La Brea  McNeill's Extra Special Bitter   \n",
       "2  American Amber / Red Ale  6th & La Brea  McNeill's Extra Special Bitter   \n",
       "3  American Amber / Red Ale  6th & La Brea  McNeill's Extra Special Bitter   \n",
       "4  American Amber / Red Ale  6th & La Brea  McNeill's Extra Special Bitter   \n",
       "\n",
       "   overall  appearance  aroma  taste  palate  \n",
       "0      3.5         2.5    4.0    4.0     3.5  \n",
       "1      3.5         3.0    2.0    4.0     3.0  \n",
       "2      3.5         3.5    3.5    3.5     3.5  \n",
       "3      3.5         3.5    3.5    4.0     4.0  \n",
       "4      3.5         3.5    4.0    3.5     3.0  "
      ]
     },
     "execution_count": 10,
     "metadata": {},
     "output_type": "execute_result"
    }
   ],
   "source": [
    "local_results.head()"
   ]
  },
  {
   "cell_type": "code",
   "execution_count": 11,
   "metadata": {},
   "outputs": [
    {
     "data": {
      "text/html": [
       "<div>\n",
       "<style scoped>\n",
       "    .dataframe tbody tr th:only-of-type {\n",
       "        vertical-align: middle;\n",
       "    }\n",
       "\n",
       "    .dataframe tbody tr th {\n",
       "        vertical-align: top;\n",
       "    }\n",
       "\n",
       "    .dataframe thead th {\n",
       "        text-align: right;\n",
       "    }\n",
       "</style>\n",
       "<table border=\"1\" class=\"dataframe\">\n",
       "  <thead>\n",
       "    <tr style=\"text-align: right;\">\n",
       "      <th></th>\n",
       "      <th>style</th>\n",
       "      <th>name</th>\n",
       "      <th>beer_name</th>\n",
       "      <th>overall</th>\n",
       "      <th>appearance</th>\n",
       "      <th>aroma</th>\n",
       "      <th>taste</th>\n",
       "      <th>palate</th>\n",
       "    </tr>\n",
       "  </thead>\n",
       "  <tbody>\n",
       "    <tr>\n",
       "      <th>25529</th>\n",
       "      <td>Winter Warmer</td>\n",
       "      <td>Venice Duck Brewery</td>\n",
       "      <td>Brewer's Gold</td>\n",
       "      <td>4.5</td>\n",
       "      <td>4.0</td>\n",
       "      <td>3.5</td>\n",
       "      <td>4.0</td>\n",
       "      <td>4.5</td>\n",
       "    </tr>\n",
       "    <tr>\n",
       "      <th>25530</th>\n",
       "      <td>Winter Warmer</td>\n",
       "      <td>Venice Duck Brewery</td>\n",
       "      <td>Brewer's Gold</td>\n",
       "      <td>4.5</td>\n",
       "      <td>4.0</td>\n",
       "      <td>4.0</td>\n",
       "      <td>4.5</td>\n",
       "      <td>4.5</td>\n",
       "    </tr>\n",
       "    <tr>\n",
       "      <th>25531</th>\n",
       "      <td>Winter Warmer</td>\n",
       "      <td>Venice Duck Brewery</td>\n",
       "      <td>Brewer's Gold</td>\n",
       "      <td>4.5</td>\n",
       "      <td>4.5</td>\n",
       "      <td>4.5</td>\n",
       "      <td>4.5</td>\n",
       "      <td>4.0</td>\n",
       "    </tr>\n",
       "    <tr>\n",
       "      <th>25532</th>\n",
       "      <td>Winter Warmer</td>\n",
       "      <td>Venice Duck Brewery</td>\n",
       "      <td>Brewer's Gold</td>\n",
       "      <td>4.5</td>\n",
       "      <td>4.5</td>\n",
       "      <td>4.5</td>\n",
       "      <td>4.5</td>\n",
       "      <td>4.5</td>\n",
       "    </tr>\n",
       "    <tr>\n",
       "      <th>25533</th>\n",
       "      <td>Winter Warmer</td>\n",
       "      <td>Venice Duck Brewery</td>\n",
       "      <td>Brewer's Gold</td>\n",
       "      <td>5.0</td>\n",
       "      <td>4.0</td>\n",
       "      <td>4.0</td>\n",
       "      <td>4.0</td>\n",
       "      <td>4.0</td>\n",
       "    </tr>\n",
       "  </tbody>\n",
       "</table>\n",
       "</div>"
      ],
      "text/plain": [
       "               style                 name      beer_name  overall  appearance  \\\n",
       "25529  Winter Warmer  Venice Duck Brewery  Brewer's Gold      4.5         4.0   \n",
       "25530  Winter Warmer  Venice Duck Brewery  Brewer's Gold      4.5         4.0   \n",
       "25531  Winter Warmer  Venice Duck Brewery  Brewer's Gold      4.5         4.5   \n",
       "25532  Winter Warmer  Venice Duck Brewery  Brewer's Gold      4.5         4.5   \n",
       "25533  Winter Warmer  Venice Duck Brewery  Brewer's Gold      5.0         4.0   \n",
       "\n",
       "       aroma  taste  palate  \n",
       "25529    3.5    4.0     4.5  \n",
       "25530    4.0    4.5     4.5  \n",
       "25531    4.5    4.5     4.0  \n",
       "25532    4.5    4.5     4.5  \n",
       "25533    4.0    4.0     4.0  "
      ]
     },
     "execution_count": 11,
     "metadata": {},
     "output_type": "execute_result"
    }
   ],
   "source": [
    "local_results.tail()"
   ]
  },
  {
   "cell_type": "code",
   "execution_count": 12,
   "metadata": {},
   "outputs": [
    {
     "data": {
      "text/plain": [
       "style           0\n",
       "name            0\n",
       "beer_name       0\n",
       "overall         0\n",
       "appearance    765\n",
       "aroma         765\n",
       "taste         765\n",
       "palate        765\n",
       "dtype: int64"
      ]
     },
     "execution_count": 12,
     "metadata": {},
     "output_type": "execute_result"
    }
   ],
   "source": [
    "local_results.isnull().sum()"
   ]
  },
  {
   "cell_type": "code",
   "execution_count": 13,
   "metadata": {},
   "outputs": [],
   "source": [
    "local_results.dropna(inplace=True)"
   ]
  },
  {
   "cell_type": "markdown",
   "metadata": {},
   "source": [
    "I will now pick three beers that I enjoy and use this to investigate whether or not this recommendation system might work."
   ]
  },
  {
   "cell_type": "code",
   "execution_count": 14,
   "metadata": {},
   "outputs": [],
   "source": [
    "# pick 3 beers\n",
    "# recommend nearby based on style\n",
    "# and cosine simularity\n",
    "\n",
    "my_three_beers_query = \"\"\"\n",
    "SELECT \n",
    "beers.name, styles.name as style,\n",
    "AVG(reviews.review_overall) as overall,\n",
    "AVG(reviews.review_appearance) as appearance,\n",
    "AVG(reviews.review_aroma) as aroma,\n",
    "AVG(reviews.review_taste) as taste,\n",
    "AVG(reviews.review_palate) as palate,\n",
    "COUNT(reviews.id)\n",
    "FROM beers, reviews, styles \n",
    "WHERE beers.style_id = styles.id \n",
    "AND reviews.beer_id = beers.id \n",
    "AND (beers.name = 'Tart Of Darkness' \n",
    "OR beers.name = 'Old Rasputin'\n",
    "OR beers.name = 'Heady Topper')\n",
    "GROUP BY beers.name, styles.name;\n",
    "\"\"\"\n",
    "my_three_beers = pd.read_sql(sql(my_three_beers_query), con=engine)"
   ]
  },
  {
   "cell_type": "code",
   "execution_count": 15,
   "metadata": {},
   "outputs": [
    {
     "data": {
      "text/html": [
       "<div>\n",
       "<style scoped>\n",
       "    .dataframe tbody tr th:only-of-type {\n",
       "        vertical-align: middle;\n",
       "    }\n",
       "\n",
       "    .dataframe tbody tr th {\n",
       "        vertical-align: top;\n",
       "    }\n",
       "\n",
       "    .dataframe thead th {\n",
       "        text-align: right;\n",
       "    }\n",
       "</style>\n",
       "<table border=\"1\" class=\"dataframe\">\n",
       "  <thead>\n",
       "    <tr style=\"text-align: right;\">\n",
       "      <th></th>\n",
       "      <th>name</th>\n",
       "      <th>style</th>\n",
       "      <th>overall</th>\n",
       "      <th>appearance</th>\n",
       "      <th>aroma</th>\n",
       "      <th>taste</th>\n",
       "      <th>palate</th>\n",
       "      <th>count</th>\n",
       "    </tr>\n",
       "  </thead>\n",
       "  <tbody>\n",
       "    <tr>\n",
       "      <th>0</th>\n",
       "      <td>Heady Topper</td>\n",
       "      <td>New England IPA</td>\n",
       "      <td>4.626712</td>\n",
       "      <td>4.163228</td>\n",
       "      <td>4.660847</td>\n",
       "      <td>4.609259</td>\n",
       "      <td>4.405820</td>\n",
       "      <td>949</td>\n",
       "    </tr>\n",
       "    <tr>\n",
       "      <th>1</th>\n",
       "      <td>Old Rasputin</td>\n",
       "      <td>Russian Imperial Stout</td>\n",
       "      <td>4.174406</td>\n",
       "      <td>4.374197</td>\n",
       "      <td>4.198827</td>\n",
       "      <td>4.342304</td>\n",
       "      <td>4.232005</td>\n",
       "      <td>3112</td>\n",
       "    </tr>\n",
       "    <tr>\n",
       "      <th>2</th>\n",
       "      <td>Tart Of Darkness</td>\n",
       "      <td>American Wild Ale</td>\n",
       "      <td>4.126984</td>\n",
       "      <td>3.960317</td>\n",
       "      <td>4.095238</td>\n",
       "      <td>4.142857</td>\n",
       "      <td>3.968254</td>\n",
       "      <td>126</td>\n",
       "    </tr>\n",
       "  </tbody>\n",
       "</table>\n",
       "</div>"
      ],
      "text/plain": [
       "               name                   style   overall  appearance     aroma  \\\n",
       "0      Heady Topper         New England IPA  4.626712    4.163228  4.660847   \n",
       "1      Old Rasputin  Russian Imperial Stout  4.174406    4.374197  4.198827   \n",
       "2  Tart Of Darkness       American Wild Ale  4.126984    3.960317  4.095238   \n",
       "\n",
       "      taste    palate  count  \n",
       "0  4.609259  4.405820    949  \n",
       "1  4.342304  4.232005   3112  \n",
       "2  4.142857  3.968254    126  "
      ]
     },
     "execution_count": 15,
     "metadata": {},
     "output_type": "execute_result"
    }
   ],
   "source": [
    "my_three_beers"
   ]
  },
  {
   "cell_type": "markdown",
   "metadata": {},
   "source": [
    "Now I will see what styles from the local breweries are available to match up against."
   ]
  },
  {
   "cell_type": "code",
   "execution_count": 16,
   "metadata": {},
   "outputs": [
    {
     "data": {
      "text/plain": [
       "array(['American Wild Ale', 'New England IPA', 'Russian Imperial Stout'],\n",
       "      dtype=object)"
      ]
     },
     "execution_count": 16,
     "metadata": {},
     "output_type": "execute_result"
    }
   ],
   "source": [
    "local_styles = local_results[local_results[\"style\"].isin(set(my_three_beers[\"style\"]))]['style'].unique()\n",
    "local_styles"
   ]
  },
  {
   "cell_type": "code",
   "execution_count": 17,
   "metadata": {
    "scrolled": true
   },
   "outputs": [
    {
     "data": {
      "text/plain": [
       "(340, 8)"
      ]
     },
     "execution_count": 17,
     "metadata": {},
     "output_type": "execute_result"
    }
   ],
   "source": [
    "local_matches = local_results[local_results[\"style\"].isin(local_styles)] \n",
    "local_matches.shape"
   ]
  },
  {
   "cell_type": "code",
   "execution_count": 18,
   "metadata": {},
   "outputs": [
    {
     "data": {
      "text/html": [
       "<div>\n",
       "<style scoped>\n",
       "    .dataframe tbody tr th:only-of-type {\n",
       "        vertical-align: middle;\n",
       "    }\n",
       "\n",
       "    .dataframe tbody tr th {\n",
       "        vertical-align: top;\n",
       "    }\n",
       "\n",
       "    .dataframe thead th {\n",
       "        text-align: right;\n",
       "    }\n",
       "</style>\n",
       "<table border=\"1\" class=\"dataframe\">\n",
       "  <thead>\n",
       "    <tr style=\"text-align: right;\">\n",
       "      <th></th>\n",
       "      <th>style</th>\n",
       "      <th>name</th>\n",
       "      <th>beer_name</th>\n",
       "      <th>overall</th>\n",
       "      <th>appearance</th>\n",
       "      <th>aroma</th>\n",
       "      <th>taste</th>\n",
       "      <th>palate</th>\n",
       "    </tr>\n",
       "  </thead>\n",
       "  <tbody>\n",
       "    <tr>\n",
       "      <th>232</th>\n",
       "      <td>American Wild Ale</td>\n",
       "      <td>6th &amp; La Brea</td>\n",
       "      <td>Oh My Gourd</td>\n",
       "      <td>3.75</td>\n",
       "      <td>3.50</td>\n",
       "      <td>3.50</td>\n",
       "      <td>3.50</td>\n",
       "      <td>3.5</td>\n",
       "    </tr>\n",
       "    <tr>\n",
       "      <th>233</th>\n",
       "      <td>American Wild Ale</td>\n",
       "      <td>6th &amp; La Brea</td>\n",
       "      <td>Oh My Gourd</td>\n",
       "      <td>4.00</td>\n",
       "      <td>3.75</td>\n",
       "      <td>4.00</td>\n",
       "      <td>4.00</td>\n",
       "      <td>4.0</td>\n",
       "    </tr>\n",
       "    <tr>\n",
       "      <th>234</th>\n",
       "      <td>American Wild Ale</td>\n",
       "      <td>6th &amp; La Brea</td>\n",
       "      <td>Oh My Gourd</td>\n",
       "      <td>4.25</td>\n",
       "      <td>3.75</td>\n",
       "      <td>4.25</td>\n",
       "      <td>4.25</td>\n",
       "      <td>4.0</td>\n",
       "    </tr>\n",
       "    <tr>\n",
       "      <th>1303</th>\n",
       "      <td>New England IPA</td>\n",
       "      <td>6th &amp; La Brea</td>\n",
       "      <td>Honey Badger</td>\n",
       "      <td>3.25</td>\n",
       "      <td>3.00</td>\n",
       "      <td>3.25</td>\n",
       "      <td>3.25</td>\n",
       "      <td>3.0</td>\n",
       "    </tr>\n",
       "    <tr>\n",
       "      <th>1304</th>\n",
       "      <td>New England IPA</td>\n",
       "      <td>6th &amp; La Brea</td>\n",
       "      <td>Honey Badger</td>\n",
       "      <td>3.50</td>\n",
       "      <td>3.50</td>\n",
       "      <td>3.50</td>\n",
       "      <td>3.50</td>\n",
       "      <td>3.5</td>\n",
       "    </tr>\n",
       "  </tbody>\n",
       "</table>\n",
       "</div>"
      ],
      "text/plain": [
       "                  style           name     beer_name  overall  appearance  \\\n",
       "232   American Wild Ale  6th & La Brea   Oh My Gourd     3.75        3.50   \n",
       "233   American Wild Ale  6th & La Brea   Oh My Gourd     4.00        3.75   \n",
       "234   American Wild Ale  6th & La Brea   Oh My Gourd     4.25        3.75   \n",
       "1303    New England IPA  6th & La Brea  Honey Badger     3.25        3.00   \n",
       "1304    New England IPA  6th & La Brea  Honey Badger     3.50        3.50   \n",
       "\n",
       "      aroma  taste  palate  \n",
       "232    3.50   3.50     3.5  \n",
       "233    4.00   4.00     4.0  \n",
       "234    4.25   4.25     4.0  \n",
       "1303   3.25   3.25     3.0  \n",
       "1304   3.50   3.50     3.5  "
      ]
     },
     "execution_count": 18,
     "metadata": {},
     "output_type": "execute_result"
    }
   ],
   "source": [
    "local_matches.head()"
   ]
  },
  {
   "cell_type": "code",
   "execution_count": 19,
   "metadata": {},
   "outputs": [
    {
     "data": {
      "text/html": [
       "<div>\n",
       "<style scoped>\n",
       "    .dataframe tbody tr th:only-of-type {\n",
       "        vertical-align: middle;\n",
       "    }\n",
       "\n",
       "    .dataframe tbody tr th {\n",
       "        vertical-align: top;\n",
       "    }\n",
       "\n",
       "    .dataframe thead th {\n",
       "        text-align: right;\n",
       "    }\n",
       "</style>\n",
       "<table border=\"1\" class=\"dataframe\">\n",
       "  <thead>\n",
       "    <tr style=\"text-align: right;\">\n",
       "      <th></th>\n",
       "      <th>style</th>\n",
       "      <th>name</th>\n",
       "      <th>beer_name</th>\n",
       "      <th>overall</th>\n",
       "      <th>appearance</th>\n",
       "      <th>aroma</th>\n",
       "      <th>taste</th>\n",
       "      <th>palate</th>\n",
       "    </tr>\n",
       "  </thead>\n",
       "  <tbody>\n",
       "    <tr>\n",
       "      <th>25357</th>\n",
       "      <td>Russian Imperial Stout</td>\n",
       "      <td>Venice Duck Brewery</td>\n",
       "      <td>Brown-Eyed Girl</td>\n",
       "      <td>4.0</td>\n",
       "      <td>3.50</td>\n",
       "      <td>3.50</td>\n",
       "      <td>4.0</td>\n",
       "      <td>4.0</td>\n",
       "    </tr>\n",
       "    <tr>\n",
       "      <th>25358</th>\n",
       "      <td>Russian Imperial Stout</td>\n",
       "      <td>Venice Duck Brewery</td>\n",
       "      <td>Brown-Eyed Girl</td>\n",
       "      <td>4.0</td>\n",
       "      <td>3.50</td>\n",
       "      <td>3.50</td>\n",
       "      <td>4.0</td>\n",
       "      <td>4.5</td>\n",
       "    </tr>\n",
       "    <tr>\n",
       "      <th>25359</th>\n",
       "      <td>Russian Imperial Stout</td>\n",
       "      <td>Venice Duck Brewery</td>\n",
       "      <td>Brown-Eyed Girl</td>\n",
       "      <td>4.0</td>\n",
       "      <td>3.75</td>\n",
       "      <td>3.75</td>\n",
       "      <td>4.0</td>\n",
       "      <td>4.0</td>\n",
       "    </tr>\n",
       "    <tr>\n",
       "      <th>25360</th>\n",
       "      <td>Russian Imperial Stout</td>\n",
       "      <td>Venice Duck Brewery</td>\n",
       "      <td>Brown-Eyed Girl</td>\n",
       "      <td>4.0</td>\n",
       "      <td>4.00</td>\n",
       "      <td>4.00</td>\n",
       "      <td>4.0</td>\n",
       "      <td>4.0</td>\n",
       "    </tr>\n",
       "    <tr>\n",
       "      <th>25361</th>\n",
       "      <td>Russian Imperial Stout</td>\n",
       "      <td>Venice Duck Brewery</td>\n",
       "      <td>Brown-Eyed Girl</td>\n",
       "      <td>4.5</td>\n",
       "      <td>4.00</td>\n",
       "      <td>4.00</td>\n",
       "      <td>4.5</td>\n",
       "      <td>4.0</td>\n",
       "    </tr>\n",
       "  </tbody>\n",
       "</table>\n",
       "</div>"
      ],
      "text/plain": [
       "                        style                 name        beer_name  overall  \\\n",
       "25357  Russian Imperial Stout  Venice Duck Brewery  Brown-Eyed Girl      4.0   \n",
       "25358  Russian Imperial Stout  Venice Duck Brewery  Brown-Eyed Girl      4.0   \n",
       "25359  Russian Imperial Stout  Venice Duck Brewery  Brown-Eyed Girl      4.0   \n",
       "25360  Russian Imperial Stout  Venice Duck Brewery  Brown-Eyed Girl      4.0   \n",
       "25361  Russian Imperial Stout  Venice Duck Brewery  Brown-Eyed Girl      4.5   \n",
       "\n",
       "       appearance  aroma  taste  palate  \n",
       "25357        3.50   3.50    4.0     4.0  \n",
       "25358        3.50   3.50    4.0     4.5  \n",
       "25359        3.75   3.75    4.0     4.0  \n",
       "25360        4.00   4.00    4.0     4.0  \n",
       "25361        4.00   4.00    4.5     4.0  "
      ]
     },
     "execution_count": 19,
     "metadata": {},
     "output_type": "execute_result"
    }
   ],
   "source": [
    "local_matches.tail()"
   ]
  },
  {
   "cell_type": "code",
   "execution_count": 20,
   "metadata": {},
   "outputs": [
    {
     "name": "stderr",
     "output_type": "stream",
     "text": [
      "c:\\python36\\lib\\site-packages\\ipykernel_launcher.py:1: SettingWithCopyWarning: \n",
      "A value is trying to be set on a copy of a slice from a DataFrame\n",
      "\n",
      "See the caveats in the documentation: http://pandas.pydata.org/pandas-docs/stable/indexing.html#indexing-view-versus-copy\n",
      "  \"\"\"Entry point for launching an IPython kernel.\n"
     ]
    }
   ],
   "source": [
    "local_matches.dropna(inplace=True)"
   ]
  },
  {
   "cell_type": "code",
   "execution_count": 21,
   "metadata": {},
   "outputs": [
    {
     "data": {
      "text/plain": [
       "array(['Oh My Gourd', 'Honey Badger', 'Brown-Eyed Girl'], dtype=object)"
      ]
     },
     "execution_count": 21,
     "metadata": {},
     "output_type": "execute_result"
    }
   ],
   "source": [
    "local_matches.beer_name.unique()"
   ]
  },
  {
   "cell_type": "code",
   "execution_count": 22,
   "metadata": {},
   "outputs": [
    {
     "data": {
      "text/plain": [
       "(340, 8)"
      ]
     },
     "execution_count": 22,
     "metadata": {},
     "output_type": "execute_result"
    }
   ],
   "source": [
    "local_matches.shape"
   ]
  },
  {
   "cell_type": "code",
   "execution_count": 23,
   "metadata": {
    "scrolled": false
   },
   "outputs": [
    {
     "name": "stdout",
     "output_type": "stream",
     "text": [
      "\n",
      "\n",
      "\n",
      "\n",
      "\n"
     ]
    },
    {
     "data": {
      "image/png": "[encoded data removed]",
      "text/plain": [
       "<Figure size 720x576 with 2 Axes>"
      ]
     },
     "metadata": {
      "needs_background": "light"
     },
     "output_type": "display_data"
    }
   ],
   "source": [
    "beer_sim_mat = pd.concat([\n",
    "    my_three_beers.groupby([\"name\"])[[\"overall\", \"appearance\",\"aroma\",\"taste\",\"palate\"]].mean(),\n",
    "    local_matches.groupby([\"beer_name\"])[[\"overall\", \"appearance\",\"aroma\",\"taste\",\"palate\"]].mean()\n",
    "])\n",
    "\n",
    "beer_sim_mat_cubed = np.power(beer_sim_mat, 3)\n",
    "sim_matrix = cosine_similarity(beer_sim_mat_cubed, beer_sim_mat_cubed)\n",
    "\n",
    "beer_sim = pd.DataFrame(sim_matrix, columns=beer_sim_mat.index, index=beer_sim_mat.index)        \n",
    "plt.figure(figsize=(10,8))\n",
    "sns.heatmap(beer_sim)\n",
    "plt.title(f\"Cosine Similarity based on chosen style and beers\")\n",
    "[print() for i in range(5)]\n",
    "plt.show()"
   ]
  },
  {
   "cell_type": "code",
   "execution_count": 24,
   "metadata": {},
   "outputs": [
    {
     "data": {
      "text/html": [
       "<div>\n",
       "<style scoped>\n",
       "    .dataframe tbody tr th:only-of-type {\n",
       "        vertical-align: middle;\n",
       "    }\n",
       "\n",
       "    .dataframe tbody tr th {\n",
       "        vertical-align: top;\n",
       "    }\n",
       "\n",
       "    .dataframe thead th {\n",
       "        text-align: right;\n",
       "    }\n",
       "</style>\n",
       "<table border=\"1\" class=\"dataframe\">\n",
       "  <thead>\n",
       "    <tr style=\"text-align: right;\">\n",
       "      <th></th>\n",
       "      <th>Heady Topper</th>\n",
       "      <th>Old Rasputin</th>\n",
       "      <th>Tart Of Darkness</th>\n",
       "      <th>Brown-Eyed Girl</th>\n",
       "      <th>Honey Badger</th>\n",
       "      <th>Oh My Gourd</th>\n",
       "    </tr>\n",
       "  </thead>\n",
       "  <tbody>\n",
       "    <tr>\n",
       "      <th>Heady Topper</th>\n",
       "      <td>1.000000</td>\n",
       "      <td>0.987038</td>\n",
       "      <td>0.997316</td>\n",
       "      <td>0.990721</td>\n",
       "      <td>0.992297</td>\n",
       "      <td>0.998838</td>\n",
       "    </tr>\n",
       "    <tr>\n",
       "      <th>Old Rasputin</th>\n",
       "      <td>0.987038</td>\n",
       "      <td>1.000000</td>\n",
       "      <td>0.995766</td>\n",
       "      <td>0.997984</td>\n",
       "      <td>0.998132</td>\n",
       "      <td>0.991348</td>\n",
       "    </tr>\n",
       "    <tr>\n",
       "      <th>Tart Of Darkness</th>\n",
       "      <td>0.997316</td>\n",
       "      <td>0.995766</td>\n",
       "      <td>1.000000</td>\n",
       "      <td>0.997468</td>\n",
       "      <td>0.997859</td>\n",
       "      <td>0.998892</td>\n",
       "    </tr>\n",
       "    <tr>\n",
       "      <th>Brown-Eyed Girl</th>\n",
       "      <td>0.990721</td>\n",
       "      <td>0.997984</td>\n",
       "      <td>0.997468</td>\n",
       "      <td>1.000000</td>\n",
       "      <td>0.996513</td>\n",
       "      <td>0.995511</td>\n",
       "    </tr>\n",
       "    <tr>\n",
       "      <th>Honey Badger</th>\n",
       "      <td>0.992297</td>\n",
       "      <td>0.998132</td>\n",
       "      <td>0.997859</td>\n",
       "      <td>0.996513</td>\n",
       "      <td>1.000000</td>\n",
       "      <td>0.994811</td>\n",
       "    </tr>\n",
       "    <tr>\n",
       "      <th>Oh My Gourd</th>\n",
       "      <td>0.998838</td>\n",
       "      <td>0.991348</td>\n",
       "      <td>0.998892</td>\n",
       "      <td>0.995511</td>\n",
       "      <td>0.994811</td>\n",
       "      <td>1.000000</td>\n",
       "    </tr>\n",
       "  </tbody>\n",
       "</table>\n",
       "</div>"
      ],
      "text/plain": [
       "                  Heady Topper  Old Rasputin  Tart Of Darkness  \\\n",
       "Heady Topper          1.000000      0.987038          0.997316   \n",
       "Old Rasputin          0.987038      1.000000          0.995766   \n",
       "Tart Of Darkness      0.997316      0.995766          1.000000   \n",
       "Brown-Eyed Girl       0.990721      0.997984          0.997468   \n",
       "Honey Badger          0.992297      0.998132          0.997859   \n",
       "Oh My Gourd           0.998838      0.991348          0.998892   \n",
       "\n",
       "                  Brown-Eyed Girl  Honey Badger  Oh My Gourd  \n",
       "Heady Topper             0.990721      0.992297     0.998838  \n",
       "Old Rasputin             0.997984      0.998132     0.991348  \n",
       "Tart Of Darkness         0.997468      0.997859     0.998892  \n",
       "Brown-Eyed Girl          1.000000      0.996513     0.995511  \n",
       "Honey Badger             0.996513      1.000000     0.994811  \n",
       "Oh My Gourd              0.995511      0.994811     1.000000  "
      ]
     },
     "execution_count": 24,
     "metadata": {},
     "output_type": "execute_result"
    }
   ],
   "source": [
    "pd.DataFrame(sim_matrix, index=beer_sim.index, columns=beer_sim.index)"
   ]
  },
  {
   "cell_type": "code",
   "execution_count": null,
   "metadata": {},
   "outputs": [],
   "source": []
  }
 ],
 "metadata": {
  "kernelspec": {
   "display_name": "Python 3",
   "language": "python",
   "name": "python3"
  },
  "language_info": {
   "codemirror_mode": {
    "name": "ipython",
    "version": 3
   },
   "file_extension": ".py",
   "mimetype": "text/x-python",
   "name": "python",
   "nbconvert_exporter": "python",
   "pygments_lexer": "ipython3",
   "version": "3.6.5"
  }
 },
 "nbformat": 4,
 "nbformat_minor": 2
}
